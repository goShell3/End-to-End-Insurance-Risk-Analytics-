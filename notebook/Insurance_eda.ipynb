{
 "cells": [
  {
   "cell_type": "code",
   "execution_count": null,
   "id": "100d7191",
   "metadata": {
    "vscode": {
     "languageId": "markdown"
    }
   },
   "outputs": [],
   "source": [
    "# AlphaCare Insurance Solutions (ACIS): Car Insurance Risk & Predictive Analytics"
   ]
  },
  {
   "cell_type": "code",
   "execution_count": null,
   "id": "fd6212e5",
   "metadata": {
    "vscode": {
     "languageId": "markdown"
    }
   },
   "outputs": [],
   "source": [
    "import os \n",
    "import path as Path\n",
    "\n",
    "\n",
    "import pandas as pd \n",
    "import numpy as np \n",
    "import seaborn as sns \n",
    "import matplotlib.plot as plt"
   ]
  },
  {
   "cell_type": "code",
   "execution_count": null,
   "id": "734a64c0",
   "metadata": {
    "vscode": {
     "languageId": "markdown"
    }
   },
   "outputs": [],
   "source": [
    "# read data from txt to csv \n",
    "\n",
    "df = pd.read_csv(\"../data/MachineLearningRating_v3.txt\", sep=\"|\")\n",
    "df.to_csv(\"MLRating.csv\")\n",
    "\n",
    "df.head()"
   ]
  }
 ],
 "metadata": {
  "language_info": {
   "name": "python"
  }
 },
 "nbformat": 4,
 "nbformat_minor": 5
}
